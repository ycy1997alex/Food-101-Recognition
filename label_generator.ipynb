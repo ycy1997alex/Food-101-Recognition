{
 "cells": [
  {
   "cell_type": "code",
   "execution_count": 1,
   "id": "operating-knitting",
   "metadata": {},
   "outputs": [],
   "source": [
    "import os\n",
    "labels = os.listdir('D:/NYCU/DSC/Data/food-101/images')"
   ]
  },
  {
   "cell_type": "code",
   "execution_count": 2,
   "id": "intelligent-offense",
   "metadata": {},
   "outputs": [],
   "source": [
    "with open('D:/NYCU/DSC/Data/labels.txt', 'w') as f:\n",
    "    for item in labels:\n",
    "        f.write(\"%s\\n\" % item)"
   ]
  }
 ],
 "metadata": {
  "kernelspec": {
   "display_name": "Python 3",
   "language": "python",
   "name": "python3"
  },
  "language_info": {
   "codemirror_mode": {
    "name": "ipython",
    "version": 3
   },
   "file_extension": ".py",
   "mimetype": "text/x-python",
   "name": "python",
   "nbconvert_exporter": "python",
   "pygments_lexer": "ipython3",
   "version": "3.7.10"
  }
 },
 "nbformat": 4,
 "nbformat_minor": 5
}
