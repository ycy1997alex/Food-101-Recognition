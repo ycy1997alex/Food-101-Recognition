{
 "cells": [
  {
   "cell_type": "code",
   "execution_count": null,
   "metadata": {},
   "outputs": [],
   "source": [
    "# %% === < Global Setting: Time and Seed > ===\n",
    "import time\n",
    "import numpy as np\n",
    "local_time = time.strftime(\"%Y%m%d_%H%M\", time.localtime())\n",
    "print(\"Time:\", local_time)\n",
    "seed = int(round(1000000*np.random.random()))\n",
    "print(\"Seed:\", seed)\n",
    "np.random.seed(seed)"
   ]
  },
  {
   "cell_type": "code",
   "execution_count": null,
   "metadata": {},
   "outputs": [],
   "source": [
    "# %% === < Images importing > ===\n",
    "import os\n",
    "import tensorflow as tf\n",
    "from keras.preprocessing import image_dataset_from_directory\n",
    "image_size = (299, 299)\n",
    "image_shape = image_size + (3,)\n",
    "batch_size = 128\n",
    "DataFolder = './food101/images'\n",
    "num_category = len(os.listdir(DataFolder))\n",
    "print('Number of category: %d' % num_category)\n",
    "TrainingDataset = image_dataset_from_directory(DataFolder, \n",
    "    labels='inferred',\n",
    "    validation_split=0.3,\n",
    "    subset='training',\n",
    "    seed=seed,\n",
    "    image_size=image_size,\n",
    "    batch_size=batch_size,\n",
    "    shuffle=True\n",
    "    )\n",
    "ValidationDataset = image_dataset_from_directory(DataFolder, \n",
    "    labels='inferred',\n",
    "    validation_split=0.3,\n",
    "    subset='validation',\n",
    "    seed=seed,\n",
    "    image_size=image_size,\n",
    "    batch_size=batch_size,\n",
    "    shuffle=True\n",
    "    )"
   ]
  },
  {
   "cell_type": "code",
   "execution_count": null,
   "metadata": {},
   "outputs": [],
   "source": [
    "import matplotlib.pyplot as plt\n",
    "plt.rcParams['axes.titlesize'] = 16\n",
    "plt.rcParams['axes.labelsize'] = 14\n",
    "plt.rcParams['xtick.labelsize'] = 12\n",
    "plt.rcParams['ytick.labelsize'] = 12\n",
    "plt.rcParams['legend.fontsize'] = 12\n",
    "class_names = TrainingDataset.class_names\n",
    "plt.figure(figsize=(8,8))\n",
    "for images, labels in TrainingDataset.take(1):\n",
    "    for i in range(9):\n",
    "        ax = plt.subplot(3, 3, i + 1)\n",
    "        plt.imshow(images[i].numpy().astype(\"uint8\"))\n",
    "        plt.title(class_names[labels[i]])\n",
    "        plt.axis(\"off\")\n",
    "plt.savefig('./result/food101_example_%s.png'%local_time, dpi=300)"
   ]
  },
  {
   "cell_type": "code",
   "execution_count": null,
   "metadata": {},
   "outputs": [],
   "source": [
    "ValidationBatches = tf.data.experimental.cardinality(ValidationDataset)\n",
    "TestingDataset = ValidationDataset.take(ValidationBatches // 5)\n",
    "ValidationDataset = ValidationDataset.skip(ValidationBatches // 5)"
   ]
  },
  {
   "cell_type": "code",
   "execution_count": null,
   "metadata": {},
   "outputs": [],
   "source": [
    "TrainingBatches = tf.data.experimental.cardinality(TrainingDataset)\n",
    "ValidationBatches = tf.data.experimental.cardinality(ValidationDataset)\n",
    "TestingBatches = tf.data.experimental.cardinality(TestingDataset)\n",
    "print('Number of training batches: %d' % TrainingBatches)\n",
    "print('Number of validation batches: %d' % ValidationBatches)\n",
    "print('Number of testing batches: %d' % TestingBatches)"
   ]
  },
  {
   "cell_type": "code",
   "execution_count": null,
   "metadata": {},
   "outputs": [],
   "source": [
    "AUTOTUNE = tf.data.AUTOTUNE\n",
    "print(AUTOTUNE)"
   ]
  },
  {
   "cell_type": "code",
   "execution_count": null,
   "metadata": {},
   "outputs": [],
   "source": [
    "TrainingDataset = TrainingDataset.prefetch(buffer_size=AUTOTUNE)\n",
    "ValidationDataset = ValidationDataset.prefetch(buffer_size=AUTOTUNE)\n",
    "TestingDataset = ValidationDataset.prefetch(buffer_size=AUTOTUNE)"
   ]
  },
  {
   "cell_type": "code",
   "execution_count": null,
   "metadata": {},
   "outputs": [],
   "source": [
    "# AugmentationDataset = tf.keras.Sequential([\n",
    "#     tf.keras.layers.experimental.preprocessing.RandomFlip('horizontal'),\n",
    "#     tf.keras.layers.experimental.preprocessing.RandomRotation(0.1),\n",
    "#     tf.keras.layers.experimental.preprocessing.RandomTranslation(height_factor=(-0.1,0.1),width_factor=(-0.1,0.1))\n",
    "#     ])"
   ]
  },
  {
   "cell_type": "code",
   "execution_count": null,
   "metadata": {},
   "outputs": [],
   "source": [
    "# for image, _ in TrainingDataset.take(1):\n",
    "#     plt.figure(figsize=(8,8))\n",
    "#     first_image = image[0]\n",
    "#     for i in range(9):\n",
    "#         ax = plt.subplot(3, 3, i + 1)\n",
    "#         AugmentedImage = AugmentationDataset(tf.expand_dims(first_image, 0))\n",
    "#         plt.imshow(AugmentedImage[0] / 255)\n",
    "#         plt.axis('off')"
   ]
  },
  {
   "cell_type": "code",
   "execution_count": null,
   "metadata": {},
   "outputs": [],
   "source": [
    "# %% === < Checking pretrained model > ===\n",
    "from keras.applications.inception_v3 import InceptionV3\n",
    "model_pretrained = InceptionV3(include_top=True)\n",
    "#model_pretrained.summary()"
   ]
  },
  {
   "cell_type": "code",
   "execution_count": null,
   "metadata": {},
   "outputs": [],
   "source": [
    "# %% === < Importing pretrained model with custom input shape > ===\n",
    "# from keras.applications.resnet50 import ResNet50\n",
    "# input_shape_custom = (512, 512, 3)\n",
    "# model_pretrained = ResNet50(include_top=False, input_shape=input_shape_custom)\n",
    "# model_pretrained.summary()"
   ]
  },
  {
   "cell_type": "code",
   "execution_count": null,
   "metadata": {},
   "outputs": [],
   "source": [
    "model_pretrained.trainable = False"
   ]
  },
  {
   "cell_type": "code",
   "execution_count": null,
   "metadata": {},
   "outputs": [],
   "source": [
    "from keras.layers.experimental import preprocessing\n",
    "from keras.models import Sequential\n",
    "from keras.layers import Flatten, Dense\n",
    "model = Sequential([\n",
    "    preprocessing.RandomFlip('horizontal',input_shape=image_shape),\n",
    "#     preprocessing.RandomRotation(0.1),\n",
    "    preprocessing.RandomTranslation(height_factor=(-0.1,0.1),width_factor=(-0.1,0.1)),\n",
    "    model_pretrained,\n",
    "    Flatten(),\n",
    "    Dense(4096, activation='relu'),\n",
    "    Dense(4096, activation='relu'),\n",
    "    Dense(num_category, activation='softmax')\n",
    "    ])\n",
    "model.summary()"
   ]
  },
  {
   "cell_type": "code",
   "execution_count": null,
   "metadata": {},
   "outputs": [],
   "source": [
    "from keras.optimizers import Adam\n",
    "model.compile(loss = 'sparse_categorical_crossentropy', \n",
    "  optimizer = Adam(lr = 0.001), \n",
    "  metrics = ['accuracy']\n",
    "  )\n",
    "initial_epochs = 10\n",
    "loss0, accuracy0 = model.evaluate(ValidationDataset)\n",
    "print(\"Initial loss: {:.2f}\".format(loss0))\n",
    "print(\"Initial accuracy: {:.2f}\".format(accuracy0))\n",
    "history = model.fit(TrainingDataset,\n",
    "  validation_data = ValidationDataset,\n",
    "  epochs = initial_epochs,\n",
    "  verbose = 1\n",
    "  )"
   ]
  },
  {
   "cell_type": "code",
   "execution_count": 20,
   "metadata": {},
   "outputs": [
    {
     "name": "stdout",
     "output_type": "stream",
     "text": [
      "Epoch 1/10\n",
      "553/553 [==============================] - 295s 530ms/step - loss: 4.5503 - accuracy: 0.0216 - val_loss: 4.5520 - val_accuracy: 0.0200\n",
      "Epoch 2/10\n",
      "553/553 [==============================] - 304s 545ms/step - loss: 4.5494 - accuracy: 0.0207 - val_loss: 4.5556 - val_accuracy: 0.0201\n",
      "Epoch 3/10\n",
      "553/553 [==============================] - 303s 545ms/step - loss: 4.5480 - accuracy: 0.0215 - val_loss: 4.5526 - val_accuracy: 0.0202\n",
      "Epoch 4/10\n",
      "553/553 [==============================] - 304s 546ms/step - loss: 4.5475 - accuracy: 0.0219 - val_loss: 4.5527 - val_accuracy: 0.0204\n",
      "Epoch 5/10\n",
      "553/553 [==============================] - 304s 545ms/step - loss: 4.5474 - accuracy: 0.0216 - val_loss: 4.5488 - val_accuracy: 0.0203\n",
      "Epoch 6/10\n",
      "553/553 [==============================] - 298s 535ms/step - loss: 4.5451 - accuracy: 0.0210 - val_loss: 4.5507 - val_accuracy: 0.0201\n",
      "Epoch 7/10\n",
      "553/553 [==============================] - 301s 541ms/step - loss: 4.5454 - accuracy: 0.0219 - val_loss: 4.5516 - val_accuracy: 0.0202\n",
      "Epoch 8/10\n",
      "553/553 [==============================] - 300s 539ms/step - loss: 4.5444 - accuracy: 0.0220 - val_loss: 4.5508 - val_accuracy: 0.0199\n",
      "Epoch 9/10\n",
      "553/553 [==============================] - 304s 545ms/step - loss: 4.5455 - accuracy: 0.0220 - val_loss: 4.5503 - val_accuracy: 0.0196\n",
      "Epoch 10/10\n",
      "553/553 [==============================] - 304s 545ms/step - loss: 4.5434 - accuracy: 0.0214 - val_loss: 4.5514 - val_accuracy: 0.0202\n",
      "Epoch 00010: early stopping\n"
     ]
    }
   ],
   "source": [
    "from keras.callbacks import EarlyStopping\n",
    "patience = 5\n",
    "callback = EarlyStopping(monitor = 'val_loss',\n",
    "  mode = 'min', \n",
    "  patience = patience,\n",
    "  verbose = 1\n",
    "  )\n",
    "history = model.fit(TrainingDataset,\n",
    "  validation_data = ValidationDataset,\n",
    "  epochs = initial_epochs,\n",
    "  verbose = 1,\n",
    "  callbacks = [callback]\n",
    "  )"
   ]
  },
  {
   "cell_type": "code",
   "execution_count": 21,
   "metadata": {},
   "outputs": [],
   "source": [
    "acc = history.history['accuracy']\n",
    "val_acc = history.history['val_accuracy']\n",
    "\n",
    "loss = history.history['loss']\n",
    "val_loss = history.history['val_loss']"
   ]
  },
  {
   "cell_type": "code",
   "execution_count": 22,
   "metadata": {},
   "outputs": [
    {
     "data": {
      "image/png": "[encoded data removed]",
      "text/plain": [
       "<Figure size 576x576 with 2 Axes>"
      ]
     },
     "metadata": {
      "needs_background": "light"
     },
     "output_type": "display_data"
    }
   ],
   "source": [
    "plt.figure(figsize=(8,8))\n",
    "\n",
    "plt.subplot(2, 1, 1)\n",
    "plt.plot(acc, label='Training Accuracy')\n",
    "plt.plot(val_acc, label='Validation Accuracy')\n",
    "plt.ylim([0,1])\n",
    "plt.ylabel('Accuracy')\n",
    "plt.legend(loc='best')\n",
    "plt.title('Training and Validation Accuracy')\n",
    "\n",
    "plt.subplot(2, 1, 2)\n",
    "plt.plot(loss, label='Training Loss')\n",
    "plt.plot(val_loss, label='Validation Loss')\n",
    "plt.ylim([0,1.1*max(plt.ylim())])\n",
    "plt.ylabel('Cross Entropy')\n",
    "plt.xlabel('Epoch')\n",
    "plt.legend(loc='best')\n",
    "plt.title('Training and Validation Loss')\n",
    "\n",
    "plt.savefig('./result/food101_history_pre_%s.png'%local_time, dpi=300)"
   ]
  },
  {
   "cell_type": "code",
   "execution_count": 23,
   "metadata": {},
   "outputs": [],
   "source": [
    "model_pretrained.trainable = True"
   ]
  },
  {
   "cell_type": "code",
   "execution_count": 24,
   "metadata": {},
   "outputs": [
    {
     "name": "stdout",
     "output_type": "stream",
     "text": [
      "Model: \"sequential\"\n",
      "_________________________________________________________________\n",
      "Layer (type)                 Output Shape              Param #   \n",
      "=================================================================\n",
      "random_flip (RandomFlip)     (None, 299, 299, 3)       0         \n",
      "_________________________________________________________________\n",
      "random_translation (RandomTr (None, 299, 299, 3)       0         \n",
      "_________________________________________________________________\n",
      "inception_v3 (Functional)    (None, 1000)              23851784  \n",
      "_________________________________________________________________\n",
      "flatten (Flatten)            (None, 1000)              0         \n",
      "_________________________________________________________________\n",
      "dense (Dense)                (None, 4096)              4100096   \n",
      "_________________________________________________________________\n",
      "dense_1 (Dense)              (None, 4096)              16781312  \n",
      "_________________________________________________________________\n",
      "dense_2 (Dense)              (None, 101)               413797    \n",
      "=================================================================\n",
      "Total params: 45,146,989\n",
      "Trainable params: 45,112,557\n",
      "Non-trainable params: 34,432\n",
      "_________________________________________________________________\n"
     ]
    }
   ],
   "source": [
    "from keras.optimizers import Adam\n",
    "model.compile(loss = 'sparse_categorical_crossentropy', \n",
    "  optimizer = Adam(learning_rate=0.001), \n",
    "  metrics = ['accuracy']\n",
    "  )\n",
    "model.summary()"
   ]
  },
  {
   "cell_type": "code",
   "execution_count": 25,
   "metadata": {},
   "outputs": [
    {
     "name": "stdout",
     "output_type": "stream",
     "text": [
      "Epoch 10/70\n",
      "553/553 [==============================] - 342s 586ms/step - loss: 4.1231 - accuracy: 0.0708 - val_loss: 5.9580 - val_accuracy: 0.0210\n",
      "Epoch 11/70\n",
      "553/553 [==============================] - 323s 579ms/step - loss: 3.0880 - accuracy: 0.2311 - val_loss: 3.3025 - val_accuracy: 0.2405\n",
      "Epoch 12/70\n",
      "553/553 [==============================] - 320s 574ms/step - loss: 2.3266 - accuracy: 0.3992 - val_loss: 2.4317 - val_accuracy: 0.4021\n",
      "Epoch 13/70\n",
      "553/553 [==============================] - 323s 580ms/step - loss: 1.8630 - accuracy: 0.5121 - val_loss: 3.3391 - val_accuracy: 0.2886\n",
      "\n",
      "Epoch 00013: ReduceLROnPlateau reducing learning rate to 0.00010000000474974513.\n",
      "Epoch 14/70\n",
      "553/553 [==============================] - 323s 580ms/step - loss: 1.3825 - accuracy: 0.6343 - val_loss: 1.3667 - val_accuracy: 0.6427\n",
      "Epoch 15/70\n",
      "553/553 [==============================] - 324s 581ms/step - loss: 1.1833 - accuracy: 0.6846 - val_loss: 1.3227 - val_accuracy: 0.6562\n",
      "Epoch 16/70\n",
      "553/553 [==============================] - 322s 577ms/step - loss: 1.0873 - accuracy: 0.7074 - val_loss: 1.2870 - val_accuracy: 0.6661\n",
      "Epoch 17/70\n",
      "553/553 [==============================] - 323s 580ms/step - loss: 1.0090 - accuracy: 0.7285 - val_loss: 1.2837 - val_accuracy: 0.6729\n",
      "Epoch 18/70\n",
      "553/553 [==============================] - 324s 582ms/step - loss: 0.9367 - accuracy: 0.7460 - val_loss: 1.2441 - val_accuracy: 0.6837\n",
      "Epoch 19/70\n",
      "553/553 [==============================] - 325s 584ms/step - loss: 0.8688 - accuracy: 0.7629 - val_loss: 1.2546 - val_accuracy: 0.6847\n",
      "\n",
      "Epoch 00019: ReduceLROnPlateau reducing learning rate to 1.0000000474974514e-05.\n",
      "Epoch 20/70\n",
      "553/553 [==============================] - 324s 581ms/step - loss: 0.7885 - accuracy: 0.7841 - val_loss: 1.1693 - val_accuracy: 0.7039\n",
      "Epoch 21/70\n",
      "553/553 [==============================] - 321s 575ms/step - loss: 0.7548 - accuracy: 0.7916 - val_loss: 1.1693 - val_accuracy: 0.7038\n",
      "\n",
      "Epoch 00021: ReduceLROnPlateau reducing learning rate to 1.0000000656873453e-06.\n",
      "Epoch 22/70\n",
      "553/553 [==============================] - 322s 577ms/step - loss: 0.7400 - accuracy: 0.7942 - val_loss: 1.1679 - val_accuracy: 0.7049\n",
      "Epoch 23/70\n",
      "553/553 [==============================] - 323s 580ms/step - loss: 0.7464 - accuracy: 0.7958 - val_loss: 1.1656 - val_accuracy: 0.7060\n",
      "Epoch 24/70\n",
      "553/553 [==============================] - 321s 576ms/step - loss: 0.7390 - accuracy: 0.7958 - val_loss: 1.1659 - val_accuracy: 0.7064\n",
      "\n",
      "Epoch 00024: ReduceLROnPlateau reducing learning rate to 1.0000001111620805e-07.\n",
      "Epoch 25/70\n",
      "553/553 [==============================] - 323s 580ms/step - loss: 0.7393 - accuracy: 0.7968 - val_loss: 1.1678 - val_accuracy: 0.7065\n",
      "\n",
      "Epoch 00025: ReduceLROnPlateau reducing learning rate to 1.000000082740371e-08.\n",
      "Epoch 26/70\n",
      "553/553 [==============================] - 322s 577ms/step - loss: 0.7346 - accuracy: 0.7949 - val_loss: 1.1711 - val_accuracy: 0.7052\n",
      "\n",
      "Epoch 00026: ReduceLROnPlateau reducing learning rate to 1.000000082740371e-09.\n",
      "Epoch 27/70\n",
      "553/553 [==============================] - 324s 581ms/step - loss: 0.7343 - accuracy: 0.7962 - val_loss: 1.1652 - val_accuracy: 0.7066\n",
      "Epoch 28/70\n",
      "553/553 [==============================] - 323s 579ms/step - loss: 0.7361 - accuracy: 0.7959 - val_loss: 1.1702 - val_accuracy: 0.7053\n",
      "\n",
      "Epoch 00028: ReduceLROnPlateau reducing learning rate to 1.000000082740371e-10.\n",
      "Epoch 29/70\n",
      "553/553 [==============================] - 323s 581ms/step - loss: 0.7391 - accuracy: 0.7949 - val_loss: 1.1664 - val_accuracy: 0.7063\n",
      "\n",
      "Epoch 00029: ReduceLROnPlateau reducing learning rate to 1.000000082740371e-11.\n",
      "Epoch 30/70\n",
      "553/553 [==============================] - 324s 582ms/step - loss: 0.7382 - accuracy: 0.7979 - val_loss: 1.1670 - val_accuracy: 0.7064\n",
      "\n",
      "Epoch 00030: ReduceLROnPlateau reducing learning rate to 1.000000082740371e-12.\n",
      "Epoch 31/70\n",
      "553/553 [==============================] - 320s 574ms/step - loss: 0.7354 - accuracy: 0.7968 - val_loss: 1.1702 - val_accuracy: 0.7055\n",
      "\n",
      "Epoch 00031: ReduceLROnPlateau reducing learning rate to 1.0000001044244145e-13.\n",
      "Epoch 32/70\n",
      "553/553 [==============================] - 324s 582ms/step - loss: 0.7347 - accuracy: 0.7978 - val_loss: 1.1675 - val_accuracy: 0.7060\n",
      "\n",
      "Epoch 00032: ReduceLROnPlateau reducing learning rate to 1.0000001179769417e-14.\n",
      "Epoch 33/70\n",
      "553/553 [==============================] - 324s 582ms/step - loss: 0.7340 - accuracy: 0.7988 - val_loss: 1.1678 - val_accuracy: 0.7056\n",
      "\n",
      "Epoch 00033: ReduceLROnPlateau reducing learning rate to 1.0000001518582595e-15.\n",
      "Epoch 34/70\n",
      "553/553 [==============================] - 325s 584ms/step - loss: 0.7400 - accuracy: 0.7953 - val_loss: 1.1678 - val_accuracy: 0.7065\n",
      "\n",
      "Epoch 00034: ReduceLROnPlateau reducing learning rate to 1.0000001095066122e-16.\n",
      "Epoch 35/70\n",
      "553/553 [==============================] - 324s 582ms/step - loss: 0.7387 - accuracy: 0.7949 - val_loss: 1.1720 - val_accuracy: 0.7055\n",
      "\n",
      "Epoch 00035: ReduceLROnPlateau reducing learning rate to 1.0000000830368326e-17.\n",
      "Epoch 36/70\n",
      "553/553 [==============================] - 324s 581ms/step - loss: 0.7391 - accuracy: 0.7946 - val_loss: 1.1686 - val_accuracy: 0.7060\n",
      "\n",
      "Epoch 00036: ReduceLROnPlateau reducing learning rate to 1.0000000664932204e-18.\n",
      "Epoch 37/70\n",
      "553/553 [==============================] - 326s 585ms/step - loss: 0.7377 - accuracy: 0.7975 - val_loss: 1.1684 - val_accuracy: 0.7059\n",
      "\n",
      "Epoch 00037: ReduceLROnPlateau reducing learning rate to 1.000000045813705e-19.\n",
      "Epoch 00037: early stopping\n"
     ]
    }
   ],
   "source": [
    "from keras.callbacks import EarlyStopping, ReduceLROnPlateau\n",
    "fine_tune_1_epochs = 60\n",
    "total_1_epochs =  initial_epochs + fine_tune_1_epochs\n",
    "EarlyStop = EarlyStopping(\n",
    "    monitor = 'val_loss',\n",
    "    mode = 'min', \n",
    "    patience = 10,\n",
    "    verbose = 1\n",
    "    )\n",
    "LRSchedule = ReduceLROnPlateau(\n",
    "    monitor = 'val_loss',\n",
    "    patience = 1, \n",
    "    verbose = 1\n",
    "    )\n",
    "history_fine_1 = model.fit(TrainingDataset,\n",
    "                          validation_data=ValidationDataset,\n",
    "                          epochs=total_1_epochs,\n",
    "                          initial_epoch=history.epoch[-1],\n",
    "                          verbose = 1,\n",
    "                          callbacks = [EarlyStop, LRSchedule]\n",
    "                          )"
   ]
  },
  {
   "cell_type": "code",
   "execution_count": 26,
   "metadata": {},
   "outputs": [],
   "source": [
    "acc += history_fine_1.history['accuracy']\n",
    "val_acc += history_fine_1.history['val_accuracy']\n",
    "\n",
    "loss += history_fine_1.history['loss']\n",
    "val_loss += history_fine_1.history['val_loss']"
   ]
  },
  {
   "cell_type": "code",
   "execution_count": 27,
   "metadata": {},
   "outputs": [
    {
     "data": {
      "image/png": "[encoded data removed]",
      "text/plain": [
       "<Figure size 576x576 with 2 Axes>"
      ]
     },
     "metadata": {
      "needs_background": "light"
     },
     "output_type": "display_data"
    }
   ],
   "source": [
    "plt.figure(figsize=(8,8))\n",
    "\n",
    "plt.subplot(2, 1, 1)\n",
    "plt.plot(acc, label='Training Accuracy')\n",
    "plt.plot(val_acc, label='Validation Accuracy')\n",
    "plt.plot([initial_epochs-1,initial_epochs-1],\n",
    "          plt.ylim([0,1]),'--', label='Fine Tuning Starting')\n",
    "plt.ylim([0,1])\n",
    "plt.ylabel('Accuracy')\n",
    "plt.legend(loc='best')\n",
    "plt.title('Training and Validation Accuracy')\n",
    "\n",
    "plt.subplot(2, 1, 2)\n",
    "plt.plot(loss, label='Training Loss')\n",
    "plt.plot(val_loss, label='Validation Loss')\n",
    "plt.plot([initial_epochs-1,initial_epochs-1],\n",
    "         plt.ylim([0,1.1*max(plt.ylim())]),'--', label='Fine Tuning Starting')\n",
    "plt.ylim([0,max(plt.ylim())])\n",
    "plt.ylabel('Cross Entropy')\n",
    "plt.xlabel('Epoch')\n",
    "plt.legend(loc='best')\n",
    "plt.title('Training and Validation Loss')\n",
    "\n",
    "plt.savefig('./result/food101_history_%s.png'%local_time, dpi=300)"
   ]
  },
  {
   "cell_type": "code",
   "execution_count": 30,
   "metadata": {},
   "outputs": [],
   "source": [
    "# --- saving weights and structure\n",
    "model_h5_folder = 'result/model_weights/'\n",
    "model_h5_file = 'food101_InceptionV3_' + local_time + '.h5'\n",
    "model.save(model_h5_folder + model_h5_file)  # creates a HDF5 file"
   ]
  },
  {
   "cell_type": "code",
   "execution_count": 31,
   "metadata": {},
   "outputs": [
    {
     "name": "stdout",
     "output_type": "stream",
     "text": [
      "553/553 [==============================] - 211s 377ms/step - loss: 0.6358 - accuracy: 0.8253\n",
      "Training loss: 0.6358\n",
      "Training accuracy: 0.8253\n",
      "190/190 [==============================] - 90s 370ms/step - loss: 1.1686 - accuracy: 0.7057\n",
      "Validation loss: 1.1686\n",
      "Validation accuracy: 0.7057\n",
      "190/190 [==============================] - 90s 365ms/step - loss: 1.1651 - accuracy: 0.7070\n",
      "Testing loss: 1.1651\n",
      "Testing accuracy: 0.7070\n"
     ]
    }
   ],
   "source": [
    "list_loss = []\n",
    "list_acc = []\n",
    "\n",
    "loss, accuracy = model.evaluate(TrainingDataset)\n",
    "list_loss.append(loss)\n",
    "list_acc.append(accuracy)\n",
    "print(\"Training loss: {:.4f}\".format(loss))\n",
    "print(\"Training accuracy: {:.4f}\".format(accuracy))\n",
    "loss, accuracy = model.evaluate(ValidationDataset)\n",
    "list_loss.append(loss)\n",
    "list_acc.append(accuracy)\n",
    "print(\"Validation loss: {:.4f}\".format(loss))\n",
    "print(\"Validation accuracy: {:.4f}\".format(accuracy))\n",
    "loss, accuracy = model.evaluate(TestingDataset)\n",
    "list_loss.append(loss)\n",
    "list_acc.append(accuracy)\n",
    "print(\"Testing loss: {:.4f}\".format(loss))\n",
    "print(\"Testing accuracy: {:.4f}\".format(accuracy))\n",
    "\n",
    "with open('./result/food101_loss_%s.txt'%local_time, 'w') as f:\n",
    "    for item in list_loss:\n",
    "        f.write(\"%s\\n\" % item)\n",
    "with open('./result/food101_acc_%s.txt'%local_time, 'w') as f:\n",
    "    for item in list_acc:\n",
    "        f.write(\"%s\\n\" % item)"
   ]
  },
  {
   "cell_type": "code",
   "execution_count": 32,
   "metadata": {},
   "outputs": [],
   "source": [
    "# pred_prop_training = model.predict(TrainingDataset)\n",
    "# pred_prop_validation = model.predict(ValidationDataset)\n",
    "# pred_prop_testing = model.predict(TestingDataset)\n",
    "# # print(pred_prop_testing)\n",
    "\n",
    "# pred_training = tf.argmax(pred_prop_training, axis=1)\n",
    "# pred_validation = tf.argmax(pred_prop_validation, axis=1)\n",
    "# pred_testing = tf.argmax(pred_prop_testing, axis=1)\n",
    "# # print(pred_testing)\n",
    "\n",
    "# true_training = tf.concat([y for x, y in TrainingDataset], axis=0)\n",
    "# true_validation = tf.concat([y for x, y in ValidationDataset], axis=0)\n",
    "# true_testing = tf.concat([y for x, y in TestingDataset], axis=0)\n",
    "# # print(true_testing)"
   ]
  },
  {
   "cell_type": "code",
   "execution_count": 33,
   "metadata": {},
   "outputs": [],
   "source": [
    "# from sklearn.metrics import accuracy_score, classification_report, confusion_matrix\n",
    "# import matplotlib.pyplot as plt\n",
    "# import seaborn as sns\n",
    "# def info(true,pred):\n",
    "#     # === Accuracy\n",
    "#     print(\"Accuracy: %.4f\"%accuracy_score(true,pred))\n",
    "#     print(classification_report(true,pred))\n",
    "#     # === Confusion Matrix\n",
    "#     plt.figure()\n",
    "#     sns.heatmap(confusion_matrix(true,pred,normalize=None), annot=True, cmap='YlGnBu')\n",
    "#     # xticklabelstarget_names, yticklabels=target_names\n",
    "#     plt.ylabel('True label')\n",
    "#     plt.xlabel('Predicted label')\n",
    "#     plt.title('Confusion Matrix')\n",
    "#     plt.show()\n",
    "#     # === Normalized Confusion Matrix\n",
    "#     plt.figure()\n",
    "#     sns.heatmap(confusion_matrix(true,pred,normalize='true'), annot=True, cmap='Blues', vmin=0, vmax=1)\n",
    "#     # xticklabelstarget_names, yticklabels=target_names\n",
    "#     plt.ylabel('True label')\n",
    "#     plt.xlabel('Predicted label')\n",
    "#     plt.title('Normalized Confusion Matrix')\n",
    "#     plt.show()"
   ]
  },
  {
   "cell_type": "code",
   "execution_count": 34,
   "metadata": {},
   "outputs": [],
   "source": [
    "# info(true_training,pred_training)"
   ]
  },
  {
   "cell_type": "code",
   "execution_count": 35,
   "metadata": {},
   "outputs": [],
   "source": [
    "# info(true_validation,pred_validation)"
   ]
  },
  {
   "cell_type": "code",
   "execution_count": 36,
   "metadata": {},
   "outputs": [],
   "source": [
    "# info(true_testing,pred_testing)"
   ]
  },
  {
   "cell_type": "code",
   "execution_count": 37,
   "metadata": {},
   "outputs": [
    {
     "name": "stdout",
     "output_type": "stream",
     "text": [
      "Finish Time: 20210330_1632\n"
     ]
    }
   ],
   "source": [
    "# %% === < Finish Time > ===\n",
    "import time\n",
    "print(\"Finish Time:\", time.strftime(\"%Y%m%d_%H%M\", time.localtime()))"
   ]
  },
  {
   "cell_type": "code",
   "execution_count": null,
   "metadata": {},
   "outputs": [],
   "source": []
  }
 ],
 "metadata": {
  "kernelspec": {
   "display_name": "Python [conda env:tf]",
   "language": "python",
   "name": "conda-env-tf-py"
  },
  "language_info": {
   "codemirror_mode": {
    "name": "ipython",
    "version": 3
   },
   "file_extension": ".py",
   "mimetype": "text/x-python",
   "name": "python",
   "nbconvert_exporter": "python",
   "pygments_lexer": "ipython3",
   "version": "3.8.8"
  }
 },
 "nbformat": 4,
 "nbformat_minor": 4
}
