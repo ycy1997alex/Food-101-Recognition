{
  "nbformat": 4,
  "nbformat_minor": 5,
  "metadata": {
    "kernelspec": {
      "display_name": "Python 3",
      "language": "python",
      "name": "python3"
    },
    "language_info": {
      "codemirror_mode": {
        "name": "ipython",
        "version": 3
      },
      "file_extension": ".py",
      "mimetype": "text/x-python",
      "name": "python",
      "nbconvert_exporter": "python",
      "pygments_lexer": "ipython3",
      "version": "3.7.10"
    },
    "colab": {
      "name": "h5_to_tflite.ipynb",
      "provenance": [],
      "collapsed_sections": []
    }
  },
  "cells": [
    {
      "cell_type": "code",
      "metadata": {
        "colab": {
          "base_uri": "https://localhost:8080/"
        },
        "id": "accredited-southeast",
        "outputId": "9c7aa8b9-5a49-40fe-b9c3-e8c689369465"
      },
      "source": [
        "# %% === < Mounting File in Google Drive > ===\n",
        "from google.colab import drive\n",
        "drive.mount('/content/drive')"
      ],
      "id": "accredited-southeast",
      "execution_count": null,
      "outputs": [
        {
          "output_type": "stream",
          "text": [
            "Drive already mounted at /content/drive; to attempt to forcibly remount, call drive.mount(\"/content/drive\", force_remount=True).\n"
          ],
          "name": "stdout"
        }
      ]
    },
    {
      "cell_type": "code",
      "metadata": {
        "id": "Xu9mn-urXQvV"
      },
      "source": [
        "# !pip install tensorflow==2.4.0"
      ],
      "id": "Xu9mn-urXQvV",
      "execution_count": null,
      "outputs": []
    },
    {
      "cell_type": "code",
      "metadata": {
        "scrolled": true,
        "colab": {
          "base_uri": "https://localhost:8080/"
        },
        "id": "senior-housing",
        "outputId": "04bcbc25-8d8d-4f24-a42b-c5639da705e7"
      },
      "source": [
        "import tensorflow as tf\n",
        "print(tf.__version__)\n",
        "\n",
        "from keras.preprocessing import image_dataset_from_directory\n",
        "batch_size = 101\n",
        "# image_size = (299, 299) # InceptionV3\n",
        "image_size = (224, 224) # ResNet50, MobileNetV3\n",
        "DataFolder = '/content/drive/MyDrive/Info/data/representative_images'\n",
        "RepresentativeDataset = image_dataset_from_directory(DataFolder, \n",
        "    labels='inferred',\n",
        "    label_mode='int',\n",
        "    color_mode='rgb',\n",
        "    image_size=image_size,\n",
        "    batch_size=batch_size,\n",
        "    seed=0,\n",
        "    shuffle=True\n",
        "    )"
      ],
      "id": "senior-housing",
      "execution_count": null,
      "outputs": [
        {
          "output_type": "stream",
          "text": [
            "2.4.1\n",
            "Found 303 files belonging to 101 classes.\n"
          ],
          "name": "stdout"
        }
      ]
    },
    {
      "cell_type": "code",
      "metadata": {
        "id": "_x1JjTr2JWCp"
      },
      "source": [
        "# n=0\n",
        "# for images, _ in RepresentativeDataset.take(100):\n",
        "#   n+=1\n",
        "#   print(n)"
      ],
      "id": "_x1JjTr2JWCp",
      "execution_count": null,
      "outputs": []
    },
    {
      "cell_type": "code",
      "metadata": {
        "id": "cRADq-NAI_F5"
      },
      "source": [
        "def representative_dataset():\n",
        "  for images, _ in RepresentativeDataset.take(100):\n",
        "    yield [images.numpy().astype(\"float32\")]"
      ],
      "id": "cRADq-NAI_F5",
      "execution_count": null,
      "outputs": []
    },
    {
      "cell_type": "code",
      "metadata": {
        "id": "separated-significance",
        "colab": {
          "base_uri": "https://localhost:8080/"
        },
        "outputId": "ba168760-3509-41c7-80e3-153fc79d7102"
      },
      "source": [
        "# === Convert the model\n",
        "saved_model_dir = '/content/drive/MyDrive/Info/result/model_weights/food101_InceptionV3_20210330_1015.h5'\n",
        "model = tf.keras.models.load_model(saved_model_dir)\n",
        "converter = tf.lite.TFLiteConverter.from_keras_model(model) # path to the SavedModel directory\n",
        "converter.optimizations = [tf.lite.Optimize.DEFAULT]\n",
        "converter.representative_dataset = representative_dataset\n",
        "converter.target_spec.supported_ops = [tf.lite.OpsSet.TFLITE_BUILTINS_INT8]\n",
        "converter.inference_input_type = tf.uint8  # or tf.int8\n",
        "converter.inference_output_type = tf.uint8  # or tf.int8\n",
        "tflite_quant_model = converter.convert()\n",
        "\n",
        "# === Save the model.\n",
        "tflite_dir = '/content/drive/MyDrive/Info/tflite_with_metadata/food101_InceptionV3_20210330_1015_uint8_v2.tflite'\n",
        "with open(tflite_dir, 'wb') as f:\n",
        "  f.write(tflite_quant_model)\n",
        "\n",
        "###\n",
        "print('Finish!!!')"
      ],
      "id": "separated-significance",
      "execution_count": null,
      "outputs": [
        {
          "output_type": "stream",
          "text": [
            "INFO:tensorflow:Assets written to: /tmp/tmpwzqxlf8l/assets\n",
            "Finish!!!\n"
          ],
          "name": "stdout"
        }
      ]
    }
  ]
}