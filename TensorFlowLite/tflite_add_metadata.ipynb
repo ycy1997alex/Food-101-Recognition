{
  "nbformat": 4,
  "nbformat_minor": 5,
  "metadata": {
    "kernelspec": {
      "display_name": "Python 3",
      "language": "python",
      "name": "python3"
    },
    "language_info": {
      "codemirror_mode": {
        "name": "ipython",
        "version": 3
      },
      "file_extension": ".py",
      "mimetype": "text/x-python",
      "name": "python",
      "nbconvert_exporter": "python",
      "pygments_lexer": "ipython3",
      "version": "3.7.10"
    },
    "colab": {
      "name": "tflite_add_metadata.ipynb",
      "provenance": [],
      "collapsed_sections": []
    }
  },
  "cells": [
    {
      "cell_type": "code",
      "metadata": {
        "colab": {
          "base_uri": "https://localhost:8080/"
        },
        "id": "GkpJTOS9Y6yw",
        "outputId": "362d1441-6cf1-4674-830f-ff7564b798b4"
      },
      "source": [
        "# %% === < Mounting File in Google Drive > ===\n",
        "from google.colab import drive\n",
        "drive.mount('/content/drive')"
      ],
      "id": "GkpJTOS9Y6yw",
      "execution_count": null,
      "outputs": [
        {
          "output_type": "stream",
          "text": [
            "Drive already mounted at /content/drive; to attempt to forcibly remount, call drive.mount(\"/content/drive\", force_remount=True).\n"
          ],
          "name": "stdout"
        }
      ]
    },
    {
      "cell_type": "code",
      "metadata": {
        "colab": {
          "base_uri": "https://localhost:8080/"
        },
        "id": "xp2MGPfVZWP9",
        "outputId": "85fdfc0d-88dc-4eaf-a80c-4e426b28fb7c"
      },
      "source": [
        "!pip install tflite_support"
      ],
      "id": "xp2MGPfVZWP9",
      "execution_count": null,
      "outputs": [
        {
          "output_type": "stream",
          "text": [
            "Requirement already satisfied: tflite_support in /usr/local/lib/python3.7/dist-packages (0.1.0)\n",
            "Requirement already satisfied: numpy>=1.16.0 in /usr/local/lib/python3.7/dist-packages (from tflite_support) (1.19.5)\n",
            "Requirement already satisfied: flatbuffers>=1.12 in /usr/local/lib/python3.7/dist-packages (from tflite_support) (1.12)\n",
            "Requirement already satisfied: absl-py>=0.7.0 in /usr/local/lib/python3.7/dist-packages (from tflite_support) (0.12.0)\n",
            "Requirement already satisfied: pybind11>=2.6.0 in /usr/local/lib/python3.7/dist-packages (from tflite_support) (2.6.2)\n",
            "Requirement already satisfied: six in /usr/local/lib/python3.7/dist-packages (from absl-py>=0.7.0->tflite_support) (1.15.0)\n"
          ],
          "name": "stdout"
        }
      ]
    },
    {
      "cell_type": "code",
      "metadata": {
        "id": "prostate-search"
      },
      "source": [
        "from tflite_support import flatbuffers\n",
        "from tflite_support import metadata as _metadata\n",
        "from tflite_support import metadata_schema_py_generated as _metadata_fb\n",
        "\n",
        "\"\"\"Creates the metadata for an image classifier.\"\"\"\n",
        "\n",
        "# Creates model info.\n",
        "model_meta = _metadata_fb.ModelMetadataT()\n",
        "model_meta.name = \"InceptionV3 image classifier\"\n",
        "model_meta.description = (\"Identify the food in the image \"\n",
        "                          \"from a set of 101 categories.\")\n",
        "model_meta.version = \"v1\"\n",
        "model_meta.author = \"TensorFlow\"\n",
        "model_meta.license = (\"Apache License. Version 2.0 \"\n",
        "                      \"http://www.apache.org/licenses/LICENSE-2.0.\")"
      ],
      "id": "prostate-search",
      "execution_count": null,
      "outputs": []
    },
    {
      "cell_type": "code",
      "metadata": {
        "id": "animal-climb"
      },
      "source": [
        "# Creates input info.\n",
        "input_meta = _metadata_fb.TensorMetadataT()\n",
        "\n",
        "# Creates output info.\n",
        "output_meta = _metadata_fb.TensorMetadataT()"
      ],
      "id": "animal-climb",
      "execution_count": null,
      "outputs": []
    },
    {
      "cell_type": "code",
      "metadata": {
        "id": "federal-brain"
      },
      "source": [
        "input_meta.name = \"image\"\n",
        "input_meta.description = (\n",
        "    \"Input image to be classified. The expected image is {0} x {1}, with \"\n",
        "    \"three channels (red, blue, and green) per pixel. Each value in the \"\n",
        "    \"tensor is a single byte between 0 and 255.\".format(299,299))\n",
        "input_meta.content = _metadata_fb.ContentT()\n",
        "input_meta.content.contentProperties = _metadata_fb.ImagePropertiesT()\n",
        "input_meta.content.contentProperties.colorSpace = (\n",
        "    _metadata_fb.ColorSpaceType.RGB)\n",
        "input_meta.content.contentPropertiesType = (\n",
        "    _metadata_fb.ContentProperties.ImageProperties)\n",
        "input_normalization = _metadata_fb.ProcessUnitT()\n",
        "input_normalization.optionsType = (\n",
        "    _metadata_fb.ProcessUnitOptions.NormalizationOptions)\n",
        "input_normalization.options = _metadata_fb.NormalizationOptionsT()\n",
        "input_normalization.options.mean = [127.5]\n",
        "input_normalization.options.std = [127.5]\n",
        "input_meta.processUnits = [input_normalization]\n",
        "input_stats = _metadata_fb.StatsT()\n",
        "input_stats.max = [255]\n",
        "input_stats.min = [0]\n",
        "input_meta.stats = input_stats"
      ],
      "id": "federal-brain",
      "execution_count": null,
      "outputs": []
    },
    {
      "cell_type": "code",
      "metadata": {
        "id": "introductory-congress"
      },
      "source": [
        "import os\n",
        "# Creates output info.\n",
        "output_meta = _metadata_fb.TensorMetadataT()\n",
        "output_meta.name = \"probability\"\n",
        "output_meta.description = \"Probabilities of the 101 labels respectively.\"\n",
        "output_meta.content = _metadata_fb.ContentT()\n",
        "output_meta.content.content_properties = _metadata_fb.FeaturePropertiesT()\n",
        "output_meta.content.contentPropertiesType = (\n",
        "    _metadata_fb.ContentProperties.FeatureProperties)\n",
        "output_stats = _metadata_fb.StatsT()\n",
        "output_stats.max = [1.0]\n",
        "output_stats.min = [0.0]\n",
        "output_meta.stats = output_stats\n",
        "label_file = _metadata_fb.AssociatedFileT()\n",
        "label_file.name = os.path.basename(\"/content/drive/MyDrive/Info/data/labels.txt\")\n",
        "label_file.description = \"Labels for objects that the model can recognize.\"\n",
        "label_file.type = _metadata_fb.AssociatedFileType.TENSOR_AXIS_LABELS\n",
        "output_meta.associatedFiles = [label_file]"
      ],
      "id": "introductory-congress",
      "execution_count": null,
      "outputs": []
    },
    {
      "cell_type": "code",
      "metadata": {
        "id": "competitive-leadership"
      },
      "source": [
        "# Creates subgraph info.\n",
        "subgraph = _metadata_fb.SubGraphMetadataT()\n",
        "subgraph.inputTensorMetadata = [input_meta]\n",
        "subgraph.outputTensorMetadata = [output_meta]\n",
        "model_meta.subgraphMetadata = [subgraph]\n",
        "\n",
        "b = flatbuffers.Builder(0)\n",
        "b.Finish(\n",
        "    model_meta.Pack(b),\n",
        "    _metadata.MetadataPopulator.METADATA_FILE_IDENTIFIER)\n",
        "metadata_buf = b.Output()"
      ],
      "id": "competitive-leadership",
      "execution_count": null,
      "outputs": []
    },
    {
      "cell_type": "code",
      "metadata": {
        "id": "lightweight-courtesy"
      },
      "source": [
        "model_file = '/content/drive/MyDrive/Info/tflite_with_metadata/food101_InceptionV3_20210330_1015_uint8_v2.tflite'\n",
        "\n",
        "populator = _metadata.MetadataPopulator.with_model_file(model_file)\n",
        "populator.load_metadata_buffer(metadata_buf)\n",
        "populator.load_associated_files([\"/content/drive/MyDrive/Info/data/labels.txt\"])\n",
        "populator.populate()"
      ],
      "id": "lightweight-courtesy",
      "execution_count": null,
      "outputs": []
    },
    {
      "cell_type": "code",
      "metadata": {
        "id": "emotional-partner"
      },
      "source": [
        "# export_model_path = 'D:/NYCU/DSC/tflite_with_metadata/food101_InceptionV3_20210330_1015.tflite'\n",
        "\n",
        "# displayer = _metadata.MetadataDisplayer.with_model_file(export_model_path)"
      ],
      "id": "emotional-partner",
      "execution_count": null,
      "outputs": []
    },
    {
      "cell_type": "code",
      "metadata": {
        "id": "pleased-morrison"
      },
      "source": [
        "# export_json_file = os.path.join(FLAGS.export_directory,\n",
        "#                     os.path.splitext(model_basename)[0] + \".json\")\n",
        "# json_file = displayer.get_metadata_json()\n",
        "# # Optional: write out the metadata as a json file\n",
        "# with open(export_json_file, \"w\") as f:\n",
        "#   f.write(json_file)"
      ],
      "id": "pleased-morrison",
      "execution_count": null,
      "outputs": []
    }
  ]
}